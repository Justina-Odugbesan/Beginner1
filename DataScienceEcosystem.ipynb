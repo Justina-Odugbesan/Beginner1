{
 "cells": [
  {
   "cell_type": "markdown",
   "id": "47d9a801-c1ae-484f-a70b-dce4cfa0afb6",
   "metadata": {},
   "source": [
    "# Data Science Tools and Ecosystem"
   ]
  },
  {
   "cell_type": "markdown",
   "id": "f6b486db-b6b0-455d-9a1c-e8b2e444bf30",
   "metadata": {},
   "source": [
    "In this notebook, Data Science Tools and Ecosystem are summarized."
   ]
  },
  {
   "attachments": {},
   "cell_type": "markdown",
   "id": "f5a13eee-c129-4682-a5da-4c401ebf4b62",
   "metadata": {},
   "source": [
    "Objectives:\n",
    "- Some of the popular languages that Data Scientist\n",
    "- Some of the commonly used libraries used by Data Scientists\n",
    "- Data science tools\n",
    "- Examples of evaluating arithmetic expressions in Python"
   ]
  },
  {
   "cell_type": "markdown",
   "id": "b64773b4-d467-4300-aa5e-6ea5cb1752c1",
   "metadata": {},
   "source": [
    "Some of the popular languages that Data Scientists use are:\n",
    "1. Python\n",
    "2. R\n",
    "3. SQL\n",
    "4. Scala\n",
    "5. Julia\n",
    "6. Java"
   ]
  },
  {
   "cell_type": "markdown",
   "id": "0e5a1320-45cb-46c9-92e2-c36e1bcb2ead",
   "metadata": {},
   "source": [
    "Some of the commonly used libraries used by Data Scientists include:\n",
    "\n",
    "1. Python Libraries\n",
    "2. R Libraries\n",
    "   "
   ]
  },
  {
   "cell_type": "markdown",
   "id": "47987f00-04e7-46d0-857d-5a5f1534db23",
   "metadata": {},
   "source": [
    "| Data Science Tools         |\n",
    "|:--------------------------|\n",
    "| Jupyter Notebook           |\n",
    "| Orange                     |\n",
    "| RStudio                    |"
   ]
  },
  {
   "cell_type": "markdown",
   "id": "1f21afb6-ed7d-4f29-8eee-61fb782309c2",
   "metadata": {},
   "source": [
    "### Below are a few examples of evaluating arithmetic expressions in Python"
   ]
  },
  {
   "cell_type": "code",
   "execution_count": 24,
   "id": "16a97e53-ddd6-4431-9484-b79632363894",
   "metadata": {},
   "outputs": [
    {
     "data": {
      "text/plain": [
       "17"
      ]
     },
     "execution_count": 24,
     "metadata": {},
     "output_type": "execute_result"
    }
   ],
   "source": [
    "#This a simple arithmetic expression to mutiply then add integers\n",
    "(3*4)+5"
   ]
  },
  {
   "cell_type": "code",
   "execution_count": 26,
   "id": "987b7921-fa39-4fd8-b839-caf1f7adc3bf",
   "metadata": {},
   "outputs": [
    {
     "name": "stdout",
     "output_type": "stream",
     "text": [
      "200 minutes is equal to 3.3333333333333335 hours.\n"
     ]
    }
   ],
   "source": [
    "#This will convert 200 minutes to hours by diving by 60\n",
    "minute = 200\n",
    "hours = minute/60\n",
    "print(f\"{minute} minutes is equal to {hours} hours.\")\n"
   ]
  },
  {
   "cell_type": "markdown",
   "id": "fe366bb1-f8bb-4530-b8c3-b6c4fc338de8",
   "metadata": {},
   "source": [
    "## Author\n",
    "   Odugbesan Justina"
   ]
  },
  {
   "cell_type": "code",
   "execution_count": null,
   "id": "3ff88299-f74a-44c4-af65-f190155209ca",
   "metadata": {},
   "outputs": [],
   "source": []
  }
 ],
 "metadata": {
  "kernelspec": {
   "display_name": "Python 3 (ipykernel)",
   "language": "python",
   "name": "python3"
  },
  "language_info": {
   "codemirror_mode": {
    "name": "ipython",
    "version": 3
   },
   "file_extension": ".py",
   "mimetype": "text/x-python",
   "name": "python",
   "nbconvert_exporter": "python",
   "pygments_lexer": "ipython3",
   "version": "3.12.4"
  }
 },
 "nbformat": 4,
 "nbformat_minor": 5
}
